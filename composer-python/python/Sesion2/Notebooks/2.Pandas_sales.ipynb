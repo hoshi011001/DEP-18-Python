{
 "cells": [
  {
   "cell_type": "code",
   "execution_count": 4,
   "id": "fdf8c996-b078-4ac7-9ced-4f5803e9906c",
   "metadata": {},
   "outputs": [
    {
     "name": "stdout",
     "output_type": "stream",
     "text": [
      "Collecting seaborn\n",
      "  Downloading seaborn-0.13.2-py3-none-any.whl (294 kB)\n",
      "\u001b[2K     \u001b[90m━━━━━━━━━━━━━━━━━━━━━━━━━━━━━━━━━━━━━━━\u001b[0m \u001b[32m294.9/294.9 kB\u001b[0m \u001b[31m5.9 MB/s\u001b[0m eta \u001b[36m0:00:00\u001b[0ma \u001b[36m0:00:01\u001b[0m\n",
      "\u001b[?25hCollecting matplotlib!=3.6.1,>=3.4\n",
      "  Downloading matplotlib-3.8.3-cp39-cp39-manylinux_2_17_x86_64.manylinux2014_x86_64.whl (11.6 MB)\n",
      "\u001b[2K     \u001b[90m━━━━━━━━━━━━━━━━━━━━━━━━━━━━━━━━━━━━━━━━\u001b[0m \u001b[32m11.6/11.6 MB\u001b[0m \u001b[31m30.9 MB/s\u001b[0m eta \u001b[36m0:00:00\u001b[0m00:01\u001b[0m0:01\u001b[0m\n",
      "\u001b[?25hRequirement already satisfied: numpy!=1.24.0,>=1.20 in /usr/local/lib/python3.9/site-packages (from seaborn) (1.26.4)\n",
      "Requirement already satisfied: pandas>=1.2 in /usr/local/lib/python3.9/site-packages (from seaborn) (2.2.0)\n",
      "Collecting cycler>=0.10\n",
      "  Downloading cycler-0.12.1-py3-none-any.whl (8.3 kB)\n",
      "Requirement already satisfied: packaging>=20.0 in /usr/local/lib/python3.9/site-packages (from matplotlib!=3.6.1,>=3.4->seaborn) (23.2)\n",
      "Collecting pyparsing>=2.3.1\n",
      "  Downloading pyparsing-3.1.1-py3-none-any.whl (103 kB)\n",
      "\u001b[2K     \u001b[90m━━━━━━━━━━━━━━━━━━━━━━━━━━━━━━━━━━━━━━━\u001b[0m \u001b[32m103.1/103.1 kB\u001b[0m \u001b[31m4.3 MB/s\u001b[0m eta \u001b[36m0:00:00\u001b[0m\n",
      "\u001b[?25hRequirement already satisfied: python-dateutil>=2.7 in /usr/local/lib/python3.9/site-packages (from matplotlib!=3.6.1,>=3.4->seaborn) (2.8.2)\n",
      "Collecting pillow>=8\n",
      "  Downloading pillow-10.2.0-cp39-cp39-manylinux_2_28_x86_64.whl (4.5 MB)\n",
      "\u001b[2K     \u001b[90m━━━━━━━━━━━━━━━━━━━━━━━━━━━━━━━━━━━━━━━━\u001b[0m \u001b[32m4.5/4.5 MB\u001b[0m \u001b[31m42.0 MB/s\u001b[0m eta \u001b[36m0:00:00\u001b[0m:00:01\u001b[0m00:01\u001b[0m\n",
      "\u001b[?25hCollecting kiwisolver>=1.3.1\n",
      "  Downloading kiwisolver-1.4.5-cp39-cp39-manylinux_2_12_x86_64.manylinux2010_x86_64.whl (1.6 MB)\n",
      "\u001b[2K     \u001b[90m━━━━━━━━━━━━━━━━━━━━━━━━━━━━━━━━━━━━━━━━\u001b[0m \u001b[32m1.6/1.6 MB\u001b[0m \u001b[31m26.0 MB/s\u001b[0m eta \u001b[36m0:00:00\u001b[0m00:01\u001b[0m\n",
      "\u001b[?25hCollecting importlib-resources>=3.2.0\n",
      "  Downloading importlib_resources-6.1.1-py3-none-any.whl (33 kB)\n",
      "Collecting contourpy>=1.0.1\n",
      "  Downloading contourpy-1.2.0-cp39-cp39-manylinux_2_17_x86_64.manylinux2014_x86_64.whl (310 kB)\n",
      "\u001b[2K     \u001b[90m━━━━━━━━━━━━━━━━━━━━━━━━━━━━━━━━━━━━━━\u001b[0m \u001b[32m311.0/311.0 kB\u001b[0m \u001b[31m10.3 MB/s\u001b[0m eta \u001b[36m0:00:00\u001b[0m\n",
      "\u001b[?25hCollecting fonttools>=4.22.0\n",
      "  Downloading fonttools-4.49.0-cp39-cp39-manylinux_2_17_x86_64.manylinux2014_x86_64.whl (4.6 MB)\n",
      "\u001b[2K     \u001b[90m━━━━━━━━━━━━━━━━━━━━━━━━━━━━━━━━━━━━━━━━\u001b[0m \u001b[32m4.6/4.6 MB\u001b[0m \u001b[31m43.0 MB/s\u001b[0m eta \u001b[36m0:00:00\u001b[0m:00:01\u001b[0m00:01\u001b[0m\n",
      "\u001b[?25hRequirement already satisfied: tzdata>=2022.7 in /usr/local/lib/python3.9/site-packages (from pandas>=1.2->seaborn) (2024.1)\n",
      "Requirement already satisfied: pytz>=2020.1 in /usr/local/lib/python3.9/site-packages (from pandas>=1.2->seaborn) (2024.1)\n",
      "Requirement already satisfied: zipp>=3.1.0 in /usr/local/lib/python3.9/site-packages (from importlib-resources>=3.2.0->matplotlib!=3.6.1,>=3.4->seaborn) (3.17.0)\n",
      "Requirement already satisfied: six>=1.5 in /usr/local/lib/python3.9/site-packages (from python-dateutil>=2.7->matplotlib!=3.6.1,>=3.4->seaborn) (1.16.0)\n",
      "Installing collected packages: pyparsing, pillow, kiwisolver, importlib-resources, fonttools, cycler, contourpy, matplotlib, seaborn\n",
      "Successfully installed contourpy-1.2.0 cycler-0.12.1 fonttools-4.49.0 importlib-resources-6.1.1 kiwisolver-1.4.5 matplotlib-3.8.3 pillow-10.2.0 pyparsing-3.1.1 seaborn-0.13.2\n",
      "\u001b[33mWARNING: Running pip as the 'root' user can result in broken permissions and conflicting behaviour with the system package manager. It is recommended to use a virtual environment instead: https://pip.pypa.io/warnings/venv\u001b[0m\u001b[33m\n",
      "\u001b[0m\n",
      "\u001b[1m[\u001b[0m\u001b[34;49mnotice\u001b[0m\u001b[1;39;49m]\u001b[0m\u001b[39;49m A new release of pip is available: \u001b[0m\u001b[31;49m23.0.1\u001b[0m\u001b[39;49m -> \u001b[0m\u001b[32;49m24.0\u001b[0m\n",
      "\u001b[1m[\u001b[0m\u001b[34;49mnotice\u001b[0m\u001b[1;39;49m]\u001b[0m\u001b[39;49m To update, run: \u001b[0m\u001b[32;49mpip install --upgrade pip\u001b[0m\n"
     ]
    }
   ],
   "source": [
    "!pip install seaborn"
   ]
  },
  {
   "cell_type": "code",
   "execution_count": 11,
   "id": "737e9ccf-8a27-4c0b-acf4-f7fe85b99acd",
   "metadata": {
    "scrolled": true
   },
   "outputs": [
    {
     "name": "stdout",
     "output_type": "stream",
     "text": [
      "Requirement already satisfied: pip in /usr/local/lib/python3.9/site-packages (23.0.1)\n",
      "Collecting pip\n",
      "  Downloading pip-24.0-py3-none-any.whl (2.1 MB)\n",
      "\u001b[2K     \u001b[90m━━━━━━━━━━━━━━━━━━━━━━━━━━━━━━━━━━━━━━━━\u001b[0m \u001b[32m2.1/2.1 MB\u001b[0m \u001b[31m16.2 MB/s\u001b[0m eta \u001b[36m0:00:00\u001b[0m00:01\u001b[0m00:01\u001b[0m\n",
      "\u001b[?25hInstalling collected packages: pip\n",
      "  Attempting uninstall: pip\n",
      "    Found existing installation: pip 23.0.1\n",
      "    Uninstalling pip-23.0.1:\n",
      "      Successfully uninstalled pip-23.0.1\n",
      "Successfully installed pip-24.0\n",
      "\u001b[33mWARNING: Running pip as the 'root' user can result in broken permissions and conflicting behaviour with the system package manager. It is recommended to use a virtual environment instead: https://pip.pypa.io/warnings/venv\u001b[0m\u001b[33m\n",
      "\u001b[0mNote: you may need to restart the kernel to use updated packages.\n"
     ]
    }
   ],
   "source": [
    "pip install --upgrade pip"
   ]
  },
  {
   "cell_type": "code",
   "execution_count": 14,
   "id": "30528ee6",
   "metadata": {},
   "outputs": [],
   "source": [
    "import pandas as pd\n",
    "import numpy as np\n",
    "import seaborn as sns\n",
    "import matplotlib.pyplot as plt\n",
    "import matplotlib"
   ]
  },
  {
   "cell_type": "code",
   "execution_count": 22,
   "id": "fb70c3da",
   "metadata": {},
   "outputs": [],
   "source": [
    "sales = pd.read_csv(\"./data/sales_data_sample.csv\", encoding='Latin1')"
   ]
  },
  {
   "cell_type": "code",
   "execution_count": 23,
   "id": "0e7ec4bb",
   "metadata": {},
   "outputs": [
    {
     "data": {
      "text/plain": [
       "Index(['ORDERNUMBER', 'QUANTITYORDERED', 'PRICEEACH', 'ORDERLINENUMBER',\n",
       "       'SALES', 'ORDERDATE', 'STATUS', 'QTR_ID', 'MONTH_ID', 'YEAR_ID',\n",
       "       'PRODUCTLINE', 'MSRP', 'PRODUCTCODE', 'CUSTOMERNAME', 'PHONE',\n",
       "       'ADDRESSLINE1', 'ADDRESSLINE2', 'CITY', 'STATE', 'POSTALCODE',\n",
       "       'COUNTRY', 'TERRITORY', 'CONTACTLASTNAME', 'CONTACTFIRSTNAME',\n",
       "       'DEALSIZE'],\n",
       "      dtype='object')"
      ]
     },
     "execution_count": 23,
     "metadata": {},
     "output_type": "execute_result"
    }
   ],
   "source": [
    "sales.columns"
   ]
  },
  {
   "cell_type": "code",
   "execution_count": null,
   "id": "8bf432d4-c369-48db-afc0-ca3e41cda964",
   "metadata": {},
   "outputs": [],
   "source": []
  },
  {
   "cell_type": "code",
   "execution_count": null,
   "id": "6422cd86",
   "metadata": {},
   "outputs": [],
   "source": [
    "sales.head()"
   ]
  },
  {
   "cell_type": "code",
   "execution_count": null,
   "id": "a5b5b1a0",
   "metadata": {},
   "outputs": [],
   "source": [
    "sales.shape"
   ]
  },
  {
   "cell_type": "code",
   "execution_count": null,
   "id": "421108c9",
   "metadata": {},
   "outputs": [],
   "source": [
    "sales.describe()"
   ]
  },
  {
   "cell_type": "code",
   "execution_count": null,
   "id": "9ca6a413",
   "metadata": {},
   "outputs": [],
   "source": [
    "sales.dtypes"
   ]
  },
  {
   "cell_type": "code",
   "execution_count": null,
   "id": "50e3a0cd",
   "metadata": {},
   "outputs": [],
   "source": [
    "total_null = sales.isnull().sum().sort_values(ascending = False) # Total de nulos\n",
    "percent_null = (sales.isnull().sum()/sales.isnull().count()).sort_values(ascending = False) #porcentaje de nulos\n",
    "missing_data = pd.concat([total_null,percent_null],axis = 1,keys=['total_null','percent_null'])\n",
    "missing_data"
   ]
  },
  {
   "cell_type": "code",
   "execution_count": null,
   "id": "f72d85d2",
   "metadata": {},
   "outputs": [],
   "source": [
    "total_null = sales.isnull().sum().sort_values(ascending = False)\n",
    "total_null"
   ]
  },
  {
   "cell_type": "code",
   "execution_count": null,
   "id": "9768fac0",
   "metadata": {},
   "outputs": [],
   "source": [
    "# Seleccionamos columnas de tipo entero\n",
    "sales.select_dtypes(include=['object'])"
   ]
  },
  {
   "cell_type": "code",
   "execution_count": null,
   "id": "e6c16ef1",
   "metadata": {},
   "outputs": [],
   "source": [
    "# Seleccion de columnas \n",
    "sales[[\"CUSTOMERNAME\",\"CONTACTFIRSTNAME\"]]"
   ]
  },
  {
   "cell_type": "code",
   "execution_count": null,
   "id": "16d9c109",
   "metadata": {},
   "outputs": [],
   "source": [
    "# Seleccion de columnas mediante una lista\n",
    "sales[sales.columns[-2:]]\n"
   ]
  },
  {
   "cell_type": "code",
   "execution_count": null,
   "id": "3f03634f",
   "metadata": {},
   "outputs": [],
   "source": [
    "# Creamos una mascara boolean\n",
    "booleanMask = sales.columns.isin([\"CUSTOMERNAME\",\"CONTACTFIRSTNAME\"])\n",
    " \n",
    "# guardamos las columnas que vamos a seleccionar \n",
    "selectedCols = sales.columns[booleanMask]\n",
    " \n",
    "# Seleccionamos las columnas deseadas\n",
    "sales[selectedCols]"
   ]
  },
  {
   "cell_type": "code",
   "execution_count": null,
   "id": "755a2c5d",
   "metadata": {},
   "outputs": [],
   "source": [
    "# Creamos una mascara boolean\n",
    "booleanMask = sales.columns.isin([\"CUSTOMERNAME\",\"CONTACTFIRSTNAME1\"])\n",
    "booleanMask"
   ]
  },
  {
   "cell_type": "code",
   "execution_count": null,
   "id": "e1089f0d",
   "metadata": {},
   "outputs": [],
   "source": [
    "selectedCols = sales.columns[booleanMask]\n",
    "selectedCols"
   ]
  },
  {
   "cell_type": "code",
   "execution_count": null,
   "id": "5fa38b68",
   "metadata": {},
   "outputs": [],
   "source": [
    "sales[selectedCols]"
   ]
  },
  {
   "cell_type": "code",
   "execution_count": null,
   "id": "42448600",
   "metadata": {},
   "outputs": [],
   "source": [
    "# Usar .loc y .iloc para seleccionar columnas por nombre o posición\n",
    "# .loc seleccion de una columna simple\n",
    "sales.loc[:, 'CUSTOMERNAME' ]"
   ]
  },
  {
   "cell_type": "code",
   "execution_count": null,
   "id": "9355cd69",
   "metadata": {},
   "outputs": [],
   "source": [
    "# Selección de columnas multiples\n",
    "sales.loc[0:5, [\"CUSTOMERNAME\",\"CONTACTFIRSTNAME\"] ]"
   ]
  },
  {
   "cell_type": "code",
   "execution_count": null,
   "id": "cd3733eb",
   "metadata": {},
   "outputs": [],
   "source": [
    "# uso de iloc\n",
    "sales.iloc[1:5, [0, 2, 3] ]"
   ]
  },
  {
   "cell_type": "code",
   "execution_count": null,
   "id": "ad22ee38",
   "metadata": {},
   "outputs": [],
   "source": [
    "# seleccionamos las columnas que contengas NUMBER\n",
    "sales.filter(like='NUMBER')"
   ]
  },
  {
   "cell_type": "code",
   "execution_count": null,
   "id": "a00f0323-90b3-4093-b842-9f66a3489486",
   "metadata": {},
   "outputs": [],
   "source": [
    "sales.isna().sum()"
   ]
  },
  {
   "cell_type": "code",
   "execution_count": null,
   "id": "231e6d5b-e73a-4295-aa4c-8f9b56440347",
   "metadata": {},
   "outputs": [],
   "source": [
    "sales['STATE'].fillna(value='NY', inplace=True)"
   ]
  },
  {
   "cell_type": "code",
   "execution_count": null,
   "id": "50933005-748b-44f6-adae-27b6f5c6b864",
   "metadata": {},
   "outputs": [],
   "source": [
    "df = sales[['ORDERNUMBER', 'QUANTITYORDERED', 'PRICEEACH', 'ORDERLINENUMBER',\n",
    "       'SALES', 'ORDERDATE', 'STATUS', 'QTR_ID', 'MONTH_ID', 'YEAR_ID',\n",
    "       'PRODUCTLINE', 'MSRP', 'PRODUCTCODE', 'CUSTOMERNAME']]\n",
    "df"
   ]
  },
  {
   "cell_type": "code",
   "execution_count": null,
   "id": "0843345e-1e9a-4d7b-8416-1b71541a1a45",
   "metadata": {},
   "outputs": [],
   "source": [
    "# seleccionamos filas en base a condiciones\n",
    "df2 = sales[(sales.STATE == 'NY') & (sales.QTR_ID == 1)]\n",
    "df2"
   ]
  },
  {
   "cell_type": "code",
   "execution_count": null,
   "id": "2696e58e-538c-4b11-972f-0e69a233b3e4",
   "metadata": {},
   "outputs": [],
   "source": [
    "df3 = df2.query('STATE == \"NY\" and QTR_ID == 1')\n",
    "df3"
   ]
  },
  {
   "cell_type": "code",
   "execution_count": null,
   "id": "2c15094c-0ff2-48f6-be72-b446a6e93057",
   "metadata": {},
   "outputs": [],
   "source": [
    "# group by\n",
    "\n",
    "sales[\"count\"] = 1\n",
    "sales[[\"COUNTRY\",\"count\"]].groupby(\"COUNTRY\").count()"
   ]
  },
  {
   "cell_type": "code",
   "execution_count": null,
   "id": "35f17352-ebf7-40f6-8a13-1b2dc45d8fef",
   "metadata": {},
   "outputs": [],
   "source": [
    "sales[[\"COUNTRY\",\"PRICEEACH\"]].groupby(\"COUNTRY\").mean()"
   ]
  },
  {
   "cell_type": "code",
   "execution_count": null,
   "id": "1a3eca81-4367-44d0-8879-bdfc43c0ba40",
   "metadata": {},
   "outputs": [],
   "source": [
    "sales[[\"COUNTRY\",\"PRICEEACH\"]].groupby(\"COUNTRY\").min()\n"
   ]
  },
  {
   "cell_type": "code",
   "execution_count": null,
   "id": "1ac0575e-602a-4db6-a187-b5b84e5ea202",
   "metadata": {},
   "outputs": [],
   "source": [
    "sales.sort_values(by=[\"PRICEEACH\"]) "
   ]
  },
  {
   "cell_type": "code",
   "execution_count": null,
   "id": "e946d556-652c-4cc8-b067-dbb39d48b3d4",
   "metadata": {},
   "outputs": [],
   "source": [
    "sales.sort_values(by=[\"PRICEEACH\"], ascending = False)\n"
   ]
  },
  {
   "cell_type": "code",
   "execution_count": null,
   "id": "1d827249-330e-4058-8a0b-e76626e3a880",
   "metadata": {},
   "outputs": [],
   "source": [
    "sales.sort_values(by = ['YEAR_ID', 'PRICEEACH'], ascending = [True, False], na_position = 'first')\n"
   ]
  },
  {
   "cell_type": "code",
   "execution_count": null,
   "id": "cb28be28-aea7-4b89-a100-b3595c8fa278",
   "metadata": {},
   "outputs": [],
   "source": []
  },
  {
   "cell_type": "code",
   "execution_count": 18,
   "id": "dfab5942",
   "metadata": {},
   "outputs": [
    {
     "data": {
      "text/html": [
       "<div>\n",
       "<style scoped>\n",
       "    .dataframe tbody tr th:only-of-type {\n",
       "        vertical-align: middle;\n",
       "    }\n",
       "\n",
       "    .dataframe tbody tr th {\n",
       "        vertical-align: top;\n",
       "    }\n",
       "\n",
       "    .dataframe thead th {\n",
       "        text-align: right;\n",
       "    }\n",
       "</style>\n",
       "<table border=\"1\" class=\"dataframe\">\n",
       "  <thead>\n",
       "    <tr style=\"text-align: right;\">\n",
       "      <th></th>\n",
       "      <th>orange</th>\n",
       "      <th>apple</th>\n",
       "      <th>grapes</th>\n",
       "    </tr>\n",
       "  </thead>\n",
       "  <tbody>\n",
       "    <tr>\n",
       "      <th>0</th>\n",
       "      <td>3</td>\n",
       "      <td>0</td>\n",
       "      <td>7</td>\n",
       "    </tr>\n",
       "    <tr>\n",
       "      <th>1</th>\n",
       "      <td>2</td>\n",
       "      <td>3</td>\n",
       "      <td>14</td>\n",
       "    </tr>\n",
       "    <tr>\n",
       "      <th>2</th>\n",
       "      <td>0</td>\n",
       "      <td>7</td>\n",
       "      <td>6</td>\n",
       "    </tr>\n",
       "    <tr>\n",
       "      <th>3</th>\n",
       "      <td>1</td>\n",
       "      <td>2</td>\n",
       "      <td>15</td>\n",
       "    </tr>\n",
       "  </tbody>\n",
       "</table>\n",
       "</div>"
      ],
      "text/plain": [
       "   orange  apple  grapes\n",
       "0       3      0       7\n",
       "1       2      3      14\n",
       "2       0      7       6\n",
       "3       1      2      15"
      ]
     },
     "execution_count": 18,
     "metadata": {},
     "output_type": "execute_result"
    }
   ],
   "source": [
    "# Concat\n",
    "fruta = { 'orange' : [3,2,0,1], 'apple' : [0,3,7,2], 'grapes' : [7,14,6,15] } \n",
    "df1 = pd.DataFrame(fruta) \n",
    "df1"
   ]
  },
  {
   "cell_type": "code",
   "execution_count": null,
   "id": "a734fae6-3f52-49f2-9e0c-9f6ae51aa512",
   "metadata": {},
   "outputs": [],
   "source": []
  },
  {
   "cell_type": "code",
   "execution_count": 19,
   "id": "67472ffa",
   "metadata": {},
   "outputs": [
    {
     "data": {
      "text/html": [
       "<div>\n",
       "<style scoped>\n",
       "    .dataframe tbody tr th:only-of-type {\n",
       "        vertical-align: middle;\n",
       "    }\n",
       "\n",
       "    .dataframe tbody tr th {\n",
       "        vertical-align: top;\n",
       "    }\n",
       "\n",
       "    .dataframe thead th {\n",
       "        text-align: right;\n",
       "    }\n",
       "</style>\n",
       "<table border=\"1\" class=\"dataframe\">\n",
       "  <thead>\n",
       "    <tr style=\"text-align: right;\">\n",
       "      <th></th>\n",
       "      <th>grapes</th>\n",
       "      <th>mango</th>\n",
       "      <th>banana</th>\n",
       "      <th>pear</th>\n",
       "      <th>pineapple</th>\n",
       "    </tr>\n",
       "  </thead>\n",
       "  <tbody>\n",
       "    <tr>\n",
       "      <th>0</th>\n",
       "      <td>13</td>\n",
       "      <td>10</td>\n",
       "      <td>20</td>\n",
       "      <td>21</td>\n",
       "      <td>30</td>\n",
       "    </tr>\n",
       "    <tr>\n",
       "      <th>1</th>\n",
       "      <td>12</td>\n",
       "      <td>13</td>\n",
       "      <td>23</td>\n",
       "      <td>24</td>\n",
       "      <td>33</td>\n",
       "    </tr>\n",
       "    <tr>\n",
       "      <th>2</th>\n",
       "      <td>10</td>\n",
       "      <td>17</td>\n",
       "      <td>27</td>\n",
       "      <td>28</td>\n",
       "      <td>38</td>\n",
       "    </tr>\n",
       "    <tr>\n",
       "      <th>3</th>\n",
       "      <td>2</td>\n",
       "      <td>2</td>\n",
       "      <td>4</td>\n",
       "      <td>51</td>\n",
       "      <td>30</td>\n",
       "    </tr>\n",
       "    <tr>\n",
       "      <th>4</th>\n",
       "      <td>55</td>\n",
       "      <td>9</td>\n",
       "      <td>0</td>\n",
       "      <td>22</td>\n",
       "      <td>36</td>\n",
       "    </tr>\n",
       "    <tr>\n",
       "      <th>5</th>\n",
       "      <td>98</td>\n",
       "      <td>76</td>\n",
       "      <td>9</td>\n",
       "      <td>25</td>\n",
       "      <td>31</td>\n",
       "    </tr>\n",
       "  </tbody>\n",
       "</table>\n",
       "</div>"
      ],
      "text/plain": [
       "   grapes  mango  banana  pear  pineapple\n",
       "0      13     10      20    21         30\n",
       "1      12     13      23    24         33\n",
       "2      10     17      27    28         38\n",
       "3       2      2       4    51         30\n",
       "4      55      9       0    22         36\n",
       "5      98     76       9    25         31"
      ]
     },
     "execution_count": 19,
     "metadata": {},
     "output_type": "execute_result"
    }
   ],
   "source": [
    "fruta = { 'grapes' : [13,12,10,2,55,98], 'mango' : [10,13,17,2,9,76], 'banana' : [20,23,27,4,0,9], 'pear' : [21,24,28,51,22,25], 'pineapple' : [30,33,38,30,36,31] } \n",
    "df2 = pd.DataFrame(fruta) \n",
    "df2"
   ]
  },
  {
   "cell_type": "code",
   "execution_count": null,
   "id": "6b8cf26f-9274-414f-8bdb-ed4cf2d09352",
   "metadata": {},
   "outputs": [],
   "source": []
  },
  {
   "cell_type": "code",
   "execution_count": 20,
   "id": "5c519d49",
   "metadata": {},
   "outputs": [
    {
     "data": {
      "text/html": [
       "<div>\n",
       "<style scoped>\n",
       "    .dataframe tbody tr th:only-of-type {\n",
       "        vertical-align: middle;\n",
       "    }\n",
       "\n",
       "    .dataframe tbody tr th {\n",
       "        vertical-align: top;\n",
       "    }\n",
       "\n",
       "    .dataframe thead th {\n",
       "        text-align: right;\n",
       "    }\n",
       "</style>\n",
       "<table border=\"1\" class=\"dataframe\">\n",
       "  <thead>\n",
       "    <tr style=\"text-align: right;\">\n",
       "      <th></th>\n",
       "      <th>orange</th>\n",
       "      <th>apple</th>\n",
       "      <th>grapes</th>\n",
       "      <th>mango</th>\n",
       "      <th>banana</th>\n",
       "      <th>pear</th>\n",
       "      <th>pineapple</th>\n",
       "    </tr>\n",
       "  </thead>\n",
       "  <tbody>\n",
       "    <tr>\n",
       "      <th>0</th>\n",
       "      <td>3.0</td>\n",
       "      <td>0.0</td>\n",
       "      <td>7</td>\n",
       "      <td>NaN</td>\n",
       "      <td>NaN</td>\n",
       "      <td>NaN</td>\n",
       "      <td>NaN</td>\n",
       "    </tr>\n",
       "    <tr>\n",
       "      <th>1</th>\n",
       "      <td>2.0</td>\n",
       "      <td>3.0</td>\n",
       "      <td>14</td>\n",
       "      <td>NaN</td>\n",
       "      <td>NaN</td>\n",
       "      <td>NaN</td>\n",
       "      <td>NaN</td>\n",
       "    </tr>\n",
       "    <tr>\n",
       "      <th>2</th>\n",
       "      <td>0.0</td>\n",
       "      <td>7.0</td>\n",
       "      <td>6</td>\n",
       "      <td>NaN</td>\n",
       "      <td>NaN</td>\n",
       "      <td>NaN</td>\n",
       "      <td>NaN</td>\n",
       "    </tr>\n",
       "    <tr>\n",
       "      <th>3</th>\n",
       "      <td>1.0</td>\n",
       "      <td>2.0</td>\n",
       "      <td>15</td>\n",
       "      <td>NaN</td>\n",
       "      <td>NaN</td>\n",
       "      <td>NaN</td>\n",
       "      <td>NaN</td>\n",
       "    </tr>\n",
       "    <tr>\n",
       "      <th>0</th>\n",
       "      <td>NaN</td>\n",
       "      <td>NaN</td>\n",
       "      <td>13</td>\n",
       "      <td>10.0</td>\n",
       "      <td>20.0</td>\n",
       "      <td>21.0</td>\n",
       "      <td>30.0</td>\n",
       "    </tr>\n",
       "    <tr>\n",
       "      <th>1</th>\n",
       "      <td>NaN</td>\n",
       "      <td>NaN</td>\n",
       "      <td>12</td>\n",
       "      <td>13.0</td>\n",
       "      <td>23.0</td>\n",
       "      <td>24.0</td>\n",
       "      <td>33.0</td>\n",
       "    </tr>\n",
       "    <tr>\n",
       "      <th>2</th>\n",
       "      <td>NaN</td>\n",
       "      <td>NaN</td>\n",
       "      <td>10</td>\n",
       "      <td>17.0</td>\n",
       "      <td>27.0</td>\n",
       "      <td>28.0</td>\n",
       "      <td>38.0</td>\n",
       "    </tr>\n",
       "    <tr>\n",
       "      <th>3</th>\n",
       "      <td>NaN</td>\n",
       "      <td>NaN</td>\n",
       "      <td>2</td>\n",
       "      <td>2.0</td>\n",
       "      <td>4.0</td>\n",
       "      <td>51.0</td>\n",
       "      <td>30.0</td>\n",
       "    </tr>\n",
       "    <tr>\n",
       "      <th>4</th>\n",
       "      <td>NaN</td>\n",
       "      <td>NaN</td>\n",
       "      <td>55</td>\n",
       "      <td>9.0</td>\n",
       "      <td>0.0</td>\n",
       "      <td>22.0</td>\n",
       "      <td>36.0</td>\n",
       "    </tr>\n",
       "    <tr>\n",
       "      <th>5</th>\n",
       "      <td>NaN</td>\n",
       "      <td>NaN</td>\n",
       "      <td>98</td>\n",
       "      <td>76.0</td>\n",
       "      <td>9.0</td>\n",
       "      <td>25.0</td>\n",
       "      <td>31.0</td>\n",
       "    </tr>\n",
       "  </tbody>\n",
       "</table>\n",
       "</div>"
      ],
      "text/plain": [
       "   orange  apple  grapes  mango  banana  pear  pineapple\n",
       "0     3.0    0.0       7    NaN     NaN   NaN        NaN\n",
       "1     2.0    3.0      14    NaN     NaN   NaN        NaN\n",
       "2     0.0    7.0       6    NaN     NaN   NaN        NaN\n",
       "3     1.0    2.0      15    NaN     NaN   NaN        NaN\n",
       "0     NaN    NaN      13   10.0    20.0  21.0       30.0\n",
       "1     NaN    NaN      12   13.0    23.0  24.0       33.0\n",
       "2     NaN    NaN      10   17.0    27.0  28.0       38.0\n",
       "3     NaN    NaN       2    2.0     4.0  51.0       30.0\n",
       "4     NaN    NaN      55    9.0     0.0  22.0       36.0\n",
       "5     NaN    NaN      98   76.0     9.0  25.0       31.0"
      ]
     },
     "execution_count": 20,
     "metadata": {},
     "output_type": "execute_result"
    }
   ],
   "source": [
    "# axis=0 se concatena de forma horizontal\n",
    "pd.concat((df1, df2), axis = 0)"
   ]
  },
  {
   "cell_type": "code",
   "execution_count": null,
   "id": "8bde28f6-8bee-4ea8-aaad-eb627dc6f943",
   "metadata": {},
   "outputs": [],
   "source": []
  },
  {
   "cell_type": "code",
   "execution_count": 21,
   "id": "23b78db8",
   "metadata": {},
   "outputs": [
    {
     "data": {
      "text/html": [
       "<div>\n",
       "<style scoped>\n",
       "    .dataframe tbody tr th:only-of-type {\n",
       "        vertical-align: middle;\n",
       "    }\n",
       "\n",
       "    .dataframe tbody tr th {\n",
       "        vertical-align: top;\n",
       "    }\n",
       "\n",
       "    .dataframe thead th {\n",
       "        text-align: right;\n",
       "    }\n",
       "</style>\n",
       "<table border=\"1\" class=\"dataframe\">\n",
       "  <thead>\n",
       "    <tr style=\"text-align: right;\">\n",
       "      <th></th>\n",
       "      <th>orange</th>\n",
       "      <th>apple</th>\n",
       "      <th>grapes</th>\n",
       "      <th>grapes</th>\n",
       "      <th>mango</th>\n",
       "      <th>banana</th>\n",
       "      <th>pear</th>\n",
       "      <th>pineapple</th>\n",
       "    </tr>\n",
       "  </thead>\n",
       "  <tbody>\n",
       "    <tr>\n",
       "      <th>0</th>\n",
       "      <td>3.0</td>\n",
       "      <td>0.0</td>\n",
       "      <td>7.0</td>\n",
       "      <td>13</td>\n",
       "      <td>10</td>\n",
       "      <td>20</td>\n",
       "      <td>21</td>\n",
       "      <td>30</td>\n",
       "    </tr>\n",
       "    <tr>\n",
       "      <th>1</th>\n",
       "      <td>2.0</td>\n",
       "      <td>3.0</td>\n",
       "      <td>14.0</td>\n",
       "      <td>12</td>\n",
       "      <td>13</td>\n",
       "      <td>23</td>\n",
       "      <td>24</td>\n",
       "      <td>33</td>\n",
       "    </tr>\n",
       "    <tr>\n",
       "      <th>2</th>\n",
       "      <td>0.0</td>\n",
       "      <td>7.0</td>\n",
       "      <td>6.0</td>\n",
       "      <td>10</td>\n",
       "      <td>17</td>\n",
       "      <td>27</td>\n",
       "      <td>28</td>\n",
       "      <td>38</td>\n",
       "    </tr>\n",
       "    <tr>\n",
       "      <th>3</th>\n",
       "      <td>1.0</td>\n",
       "      <td>2.0</td>\n",
       "      <td>15.0</td>\n",
       "      <td>2</td>\n",
       "      <td>2</td>\n",
       "      <td>4</td>\n",
       "      <td>51</td>\n",
       "      <td>30</td>\n",
       "    </tr>\n",
       "    <tr>\n",
       "      <th>4</th>\n",
       "      <td>NaN</td>\n",
       "      <td>NaN</td>\n",
       "      <td>NaN</td>\n",
       "      <td>55</td>\n",
       "      <td>9</td>\n",
       "      <td>0</td>\n",
       "      <td>22</td>\n",
       "      <td>36</td>\n",
       "    </tr>\n",
       "    <tr>\n",
       "      <th>5</th>\n",
       "      <td>NaN</td>\n",
       "      <td>NaN</td>\n",
       "      <td>NaN</td>\n",
       "      <td>98</td>\n",
       "      <td>76</td>\n",
       "      <td>9</td>\n",
       "      <td>25</td>\n",
       "      <td>31</td>\n",
       "    </tr>\n",
       "  </tbody>\n",
       "</table>\n",
       "</div>"
      ],
      "text/plain": [
       "   orange  apple  grapes  grapes  mango  banana  pear  pineapple\n",
       "0     3.0    0.0     7.0      13     10      20    21         30\n",
       "1     2.0    3.0    14.0      12     13      23    24         33\n",
       "2     0.0    7.0     6.0      10     17      27    28         38\n",
       "3     1.0    2.0    15.0       2      2       4    51         30\n",
       "4     NaN    NaN     NaN      55      9       0    22         36\n",
       "5     NaN    NaN     NaN      98     76       9    25         31"
      ]
     },
     "execution_count": 21,
     "metadata": {},
     "output_type": "execute_result"
    }
   ],
   "source": [
    "# axis=1 se concatena en forma vertical\n",
    "pd.concat((df1, df2), axis = 1)"
   ]
  },
  {
   "cell_type": "code",
   "execution_count": null,
   "id": "4fb658f0-32e3-4b9e-acba-b79e32921896",
   "metadata": {},
   "outputs": [],
   "source": []
  },
  {
   "cell_type": "markdown",
   "id": "a6f7b622",
   "metadata": {},
   "source": []
  },
  {
   "cell_type": "code",
   "execution_count": null,
   "id": "13a25d27",
   "metadata": {},
   "outputs": [],
   "source": [
    "import pandas as pd\n",
    "df1 = pd.DataFrame(\n",
    "    [\n",
    "       (1, 345, 'B', True),\n",
    "       (2, 100, 'C', False),\n",
    "       (3, 300, 'B', False),\n",
    "       (4, 151, 'A', False),\n",
    "       (5, 212, 'A', True),\n",
    "       (6, 121, 'C', False),\n",
    "       (7, 333, 'B', True),\n",
    "       (8, 456, 'C', True),\n",
    "    ],\n",
    "    columns=['id', 'value', 'colC', 'colD'])\n",
    "df2 = pd.DataFrame(\n",
    "    [\n",
    "       (1, 111, 10.1, 3),\n",
    "       (9, 56, 3.33, 10),\n",
    "       (10, 17, 18.0, 8),\n",
    "       (3, 567, 19.1, 4),\n",
    "       (11, 98, 2.1, 1),\n",
    "       (6, 31, 3.14, 12),\n",
    "    ],\n",
    "    columns=['id', 'value', 'colE', 'colF'])"
   ]
  },
  {
   "cell_type": "code",
   "execution_count": null,
   "id": "01e4dc07",
   "metadata": {},
   "outputs": [],
   "source": [
    "# Inner join\n",
    "df1.merge(df2, on='id')"
   ]
  },
  {
   "cell_type": "code",
   "execution_count": null,
   "id": "224f0070",
   "metadata": {},
   "outputs": [],
   "source": [
    "# left join\n",
    "df1.merge(df2, on='id', how='left')"
   ]
  },
  {
   "cell_type": "code",
   "execution_count": null,
   "id": "6a375e2c",
   "metadata": {},
   "outputs": [],
   "source": [
    "# right join\n",
    "df1.merge(df2, on='id', how='right')"
   ]
  },
  {
   "cell_type": "code",
   "execution_count": null,
   "id": "f9219607",
   "metadata": {},
   "outputs": [],
   "source": [
    "# full outer join\n",
    "df1.merge(df2, on='id', how='outer')"
   ]
  },
  {
   "cell_type": "code",
   "execution_count": null,
   "id": "382a6db7",
   "metadata": {},
   "outputs": [],
   "source": [
    "# left anti join\n",
    "df1.merge(df2, on='id', how='left', indicator=True) \\\n",
    "    .query('_merge == \"left_only\"')[[\"id\",\"colC\",\"colD\"]]"
   ]
  },
  {
   "cell_type": "code",
   "execution_count": null,
   "id": "474f4e68",
   "metadata": {},
   "outputs": [],
   "source": [
    "# right anti join\n",
    "df1.merge(df2, on='id', how='right', indicator=True) \\\n",
    "  .query('_merge == \"right_only\"')"
   ]
  },
  {
   "cell_type": "code",
   "execution_count": null,
   "id": "794583c2",
   "metadata": {},
   "outputs": [],
   "source": [
    "import pandas as pd\n",
    "data = {'id': [1, 2, 3, 4, 5, 6, 7, 7],\n",
    "        'first_name': ['Sigrid', 'Kennedy', 'Theodoric', 'Sigrid', 'Kennedy', 'Beatrix', 'Olimpia', 'Olimpia'],\n",
    "        'last_name': ['Mannock', 'Donnell', 'Rivers', 'Mannock', 'Donnell', 'Parlett', 'Guenther', 'Guenther'],\n",
    "        'age': [27, 31, 36, 27, 53, 48, 36, 36],\n",
    "        'amount': [7.17, 1.90, 1.11, 7.17, 1.41, 6.69, 4.62, 4.62]}\n",
    "df = pd.DataFrame(data, columns = ['id', 'first_name', 'last_name', 'age', 'amount'])\n",
    "df"
   ]
  },
  {
   "cell_type": "code",
   "execution_count": null,
   "id": "01e6a394",
   "metadata": {},
   "outputs": [],
   "source": [
    "df.duplicated()"
   ]
  },
  {
   "cell_type": "code",
   "execution_count": null,
   "id": "d019842c",
   "metadata": {},
   "outputs": [],
   "source": [
    "df = df.drop_duplicates()\n",
    "df"
   ]
  },
  {
   "cell_type": "code",
   "execution_count": null,
   "id": "7fe2355f",
   "metadata": {},
   "outputs": [],
   "source": [
    "# Busca duplicados en una sola columa\n",
    "df.duplicated(df.columns[~df.columns.isin(['id'])])"
   ]
  },
  {
   "cell_type": "code",
   "execution_count": null,
   "id": "7ce188f2",
   "metadata": {},
   "outputs": [],
   "source": [
    "df = df.drop_duplicates(df.columns[~df.columns.isin(['id'])],\n",
    "                        keep='first')\n",
    "df"
   ]
  },
  {
   "cell_type": "code",
   "execution_count": null,
   "id": "042cf82a-bcd2-4872-a185-9bfa6e02ecda",
   "metadata": {},
   "outputs": [],
   "source": []
  }
 ],
 "metadata": {
  "kernelspec": {
   "display_name": "Python 3 (ipykernel)",
   "language": "python",
   "name": "python3"
  },
  "language_info": {
   "codemirror_mode": {
    "name": "ipython",
    "version": 3
   },
   "file_extension": ".py",
   "mimetype": "text/x-python",
   "name": "python",
   "nbconvert_exporter": "python",
   "pygments_lexer": "ipython3",
   "version": "3.9.18"
  },
  "vscode": {
   "interpreter": {
    "hash": "5a4aefe5433830292dd56e41ad848b6fae049c2ddf8b1ae26c5dfa2d885cad7a"
   }
  }
 },
 "nbformat": 4,
 "nbformat_minor": 5
}
