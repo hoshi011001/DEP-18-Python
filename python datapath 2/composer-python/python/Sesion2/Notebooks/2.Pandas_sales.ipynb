{
 "cells": [
  {
   "cell_type": "code",
   "execution_count": null,
   "id": "fdf8c996-b078-4ac7-9ced-4f5803e9906c",
   "metadata": {},
   "outputs": [],
   "source": [
    "!pip install seaborn"
   ]
  },
  {
   "cell_type": "code",
   "execution_count": null,
   "id": "30528ee6",
   "metadata": {},
   "outputs": [],
   "source": [
    "import pandas as pd\n",
    "import numpy as np\n",
    "import seaborn as sns\n",
    "import matplotlib.pyplot as plt\n",
    "import matplotlib"
   ]
  },
  {
   "cell_type": "code",
   "execution_count": null,
   "id": "fb70c3da",
   "metadata": {},
   "outputs": [],
   "source": [
    "sales = pd.read_csv(\"./data/sales_data_sample.csv\", encoding='ISO-8859-1')"
   ]
  },
  {
   "cell_type": "code",
   "execution_count": null,
   "id": "0e7ec4bb",
   "metadata": {},
   "outputs": [],
   "source": [
    "sales.columns"
   ]
  },
  {
   "cell_type": "code",
   "execution_count": null,
   "id": "6422cd86",
   "metadata": {},
   "outputs": [],
   "source": [
    "sales.head()"
   ]
  },
  {
   "cell_type": "code",
   "execution_count": null,
   "id": "a5b5b1a0",
   "metadata": {},
   "outputs": [],
   "source": [
    "sales.shape"
   ]
  },
  {
   "cell_type": "code",
   "execution_count": null,
   "id": "421108c9",
   "metadata": {},
   "outputs": [],
   "source": [
    "sales.describe()"
   ]
  },
  {
   "cell_type": "code",
   "execution_count": null,
   "id": "9ca6a413",
   "metadata": {},
   "outputs": [],
   "source": [
    "sales.dtypes"
   ]
  },
  {
   "cell_type": "code",
   "execution_count": null,
   "id": "50e3a0cd",
   "metadata": {},
   "outputs": [],
   "source": [
    "total_null = sales.isnull().sum().sort_values(ascending = False) # Total de nulos\n",
    "percent_null = (sales.isnull().sum()/sales.isnull().count()).sort_values(ascending = False) #porcentaje de nulos\n",
    "missing_data = pd.concat([total_null,percent_null],axis = 1,keys=['total_null','percent_null'])\n",
    "missing_data"
   ]
  },
  {
   "cell_type": "code",
   "execution_count": null,
   "id": "f72d85d2",
   "metadata": {},
   "outputs": [],
   "source": [
    "total_null = sales.isnull().sum().sort_values(ascending = False)\n",
    "total_null"
   ]
  },
  {
   "cell_type": "code",
   "execution_count": null,
   "id": "9768fac0",
   "metadata": {},
   "outputs": [],
   "source": [
    "# Seleccionamos columnas de tipo entero\n",
    "sales.select_dtypes(include=['object'])"
   ]
  },
  {
   "cell_type": "code",
   "execution_count": null,
   "id": "e6c16ef1",
   "metadata": {},
   "outputs": [],
   "source": [
    "# Seleccion de columnas \n",
    "sales[[\"CUSTOMERNAME\",\"CONTACTFIRSTNAME\"]]"
   ]
  },
  {
   "cell_type": "code",
   "execution_count": null,
   "id": "16d9c109",
   "metadata": {},
   "outputs": [],
   "source": [
    "# Seleccion de columnas mediante una lista\n",
    "sales[sales.columns[-2:]]\n"
   ]
  },
  {
   "cell_type": "code",
   "execution_count": null,
   "id": "3f03634f",
   "metadata": {},
   "outputs": [],
   "source": [
    "# Creamos una mascara boolean\n",
    "booleanMask = sales.columns.isin([\"CUSTOMERNAME\",\"CONTACTFIRSTNAME\"])\n",
    " \n",
    "# guardamos las columnas que vamos a seleccionar \n",
    "selectedCols = sales.columns[booleanMask]\n",
    " \n",
    "# Seleccionamos las columnas deseadas\n",
    "sales[selectedCols]"
   ]
  },
  {
   "cell_type": "code",
   "execution_count": null,
   "id": "755a2c5d",
   "metadata": {},
   "outputs": [],
   "source": [
    "# Creamos una mascara boolean\n",
    "booleanMask = sales.columns.isin([\"CUSTOMERNAME\",\"CONTACTFIRSTNAME1\"])\n",
    "booleanMask"
   ]
  },
  {
   "cell_type": "code",
   "execution_count": null,
   "id": "e1089f0d",
   "metadata": {},
   "outputs": [],
   "source": [
    "selectedCols = sales.columns[booleanMask]\n",
    "selectedCols"
   ]
  },
  {
   "cell_type": "code",
   "execution_count": null,
   "id": "5fa38b68",
   "metadata": {},
   "outputs": [],
   "source": [
    "sales[selectedCols]"
   ]
  },
  {
   "cell_type": "code",
   "execution_count": null,
   "id": "42448600",
   "metadata": {},
   "outputs": [],
   "source": [
    "# Usar .loc y .iloc para seleccionar columnas por nombre o posición\n",
    "# .loc seleccion de una columna simple\n",
    "sales.loc[:, 'CUSTOMERNAME' ]"
   ]
  },
  {
   "cell_type": "code",
   "execution_count": null,
   "id": "9355cd69",
   "metadata": {},
   "outputs": [],
   "source": [
    "# Selección de columnas multiples\n",
    "sales.loc[0:5, [\"CUSTOMERNAME\",\"CONTACTFIRSTNAME\"] ]"
   ]
  },
  {
   "cell_type": "code",
   "execution_count": null,
   "id": "cd3733eb",
   "metadata": {},
   "outputs": [],
   "source": [
    "# uso de iloc\n",
    "sales.iloc[1:5, [0, 2, 3] ]"
   ]
  },
  {
   "cell_type": "code",
   "execution_count": null,
   "id": "ad22ee38",
   "metadata": {},
   "outputs": [],
   "source": [
    "# seleccionamos las columnas que contengas NUMBER\n",
    "sales.filter(like='NUMBER')"
   ]
  },
  {
   "cell_type": "code",
   "execution_count": null,
   "id": "a00f0323-90b3-4093-b842-9f66a3489486",
   "metadata": {},
   "outputs": [],
   "source": [
    "sales.isna().sum()"
   ]
  },
  {
   "cell_type": "code",
   "execution_count": null,
   "id": "231e6d5b-e73a-4295-aa4c-8f9b56440347",
   "metadata": {},
   "outputs": [],
   "source": [
    "sales['STATE'].fillna(value='NY', inplace=True)"
   ]
  },
  {
   "cell_type": "code",
   "execution_count": null,
   "id": "50933005-748b-44f6-adae-27b6f5c6b864",
   "metadata": {},
   "outputs": [],
   "source": [
    "df = sales[['ORDERNUMBER', 'QUANTITYORDERED', 'PRICEEACH', 'ORDERLINENUMBER',\n",
    "       'SALES', 'ORDERDATE', 'STATUS', 'QTR_ID', 'MONTH_ID', 'YEAR_ID',\n",
    "       'PRODUCTLINE', 'MSRP', 'PRODUCTCODE', 'CUSTOMERNAME']]\n",
    "df"
   ]
  },
  {
   "cell_type": "code",
   "execution_count": null,
   "id": "0843345e-1e9a-4d7b-8416-1b71541a1a45",
   "metadata": {},
   "outputs": [],
   "source": [
    "# seleccionamos filas en base a condiciones\n",
    "df2 = sales[(sales.STATE == 'NY') & (sales.QTR_ID == 1)]\n",
    "df2"
   ]
  },
  {
   "cell_type": "code",
   "execution_count": null,
   "id": "2696e58e-538c-4b11-972f-0e69a233b3e4",
   "metadata": {},
   "outputs": [],
   "source": [
    "df3 = df2.query('STATE == \"NY\" and QTR_ID == 1')\n",
    "df3"
   ]
  },
  {
   "cell_type": "code",
   "execution_count": null,
   "id": "2c15094c-0ff2-48f6-be72-b446a6e93057",
   "metadata": {},
   "outputs": [],
   "source": [
    "# group by\n",
    "\n",
    "sales[\"count\"] = 1\n",
    "sales[[\"COUNTRY\",\"count\"]].groupby(\"COUNTRY\").count()"
   ]
  },
  {
   "cell_type": "code",
   "execution_count": null,
   "id": "35f17352-ebf7-40f6-8a13-1b2dc45d8fef",
   "metadata": {},
   "outputs": [],
   "source": [
    "sales[[\"COUNTRY\",\"PRICEEACH\"]].groupby(\"COUNTRY\").mean()"
   ]
  },
  {
   "cell_type": "code",
   "execution_count": null,
   "id": "1a3eca81-4367-44d0-8879-bdfc43c0ba40",
   "metadata": {},
   "outputs": [],
   "source": [
    "sales[[\"COUNTRY\",\"PRICEEACH\"]].groupby(\"COUNTRY\").min()\n"
   ]
  },
  {
   "cell_type": "code",
   "execution_count": null,
   "id": "1ac0575e-602a-4db6-a187-b5b84e5ea202",
   "metadata": {},
   "outputs": [],
   "source": [
    "sales.sort_values(by=[\"PRICEEACH\"]) "
   ]
  },
  {
   "cell_type": "code",
   "execution_count": null,
   "id": "e946d556-652c-4cc8-b067-dbb39d48b3d4",
   "metadata": {},
   "outputs": [],
   "source": [
    "sales.sort_values(by=[\"PRICEEACH\"], ascending = False)\n"
   ]
  },
  {
   "cell_type": "code",
   "execution_count": null,
   "id": "1d827249-330e-4058-8a0b-e76626e3a880",
   "metadata": {},
   "outputs": [],
   "source": [
    "sales.sort_values(by = ['YEAR_ID', 'PRICEEACH'], ascending = [True, False], na_position = 'first')\n"
   ]
  },
  {
   "cell_type": "code",
   "execution_count": null,
   "id": "cb28be28-aea7-4b89-a100-b3595c8fa278",
   "metadata": {},
   "outputs": [],
   "source": []
  },
  {
   "cell_type": "code",
   "execution_count": null,
   "id": "dfab5942",
   "metadata": {},
   "outputs": [],
   "source": [
    "# Concat\n",
    "fruta = { 'orange' : [3,2,0,1], 'apple' : [0,3,7,2], 'grapes' : [7,14,6,15] } \n",
    "df1 = pd.DataFrame(fruta) \n",
    "df1"
   ]
  },
  {
   "cell_type": "code",
   "execution_count": null,
   "id": "67472ffa",
   "metadata": {},
   "outputs": [],
   "source": [
    "fruta = { 'grapes' : [13,12,10,2,55,98], 'mango' : [10,13,17,2,9,76], 'banana' : [20,23,27,4,0,9], 'pear' : [21,24,28,51,22,25], 'pineapple' : [30,33,38,30,36,31] } \n",
    "df2 = pd.DataFrame(fruta) \n",
    "df2"
   ]
  },
  {
   "cell_type": "code",
   "execution_count": null,
   "id": "5c519d49",
   "metadata": {},
   "outputs": [],
   "source": [
    "# axis=0 se concatena de forma horizontal\n",
    "pd.concat((df1, df2), axis = 0)"
   ]
  },
  {
   "cell_type": "code",
   "execution_count": null,
   "id": "23b78db8",
   "metadata": {},
   "outputs": [],
   "source": [
    "# axis=1 se concatena en forma vertical\n",
    "pd.concat((df1, df2), axis = 1)"
   ]
  },
  {
   "cell_type": "markdown",
   "id": "a6f7b622",
   "metadata": {},
   "source": []
  },
  {
   "cell_type": "code",
   "execution_count": null,
   "id": "13a25d27",
   "metadata": {},
   "outputs": [],
   "source": [
    "import pandas as pd\n",
    "df1 = pd.DataFrame(\n",
    "    [\n",
    "       (1, 345, 'B', True),\n",
    "       (2, 100, 'C', False),\n",
    "       (3, 300, 'B', False),\n",
    "       (4, 151, 'A', False),\n",
    "       (5, 212, 'A', True),\n",
    "       (6, 121, 'C', False),\n",
    "       (7, 333, 'B', True),\n",
    "       (8, 456, 'C', True),\n",
    "    ],\n",
    "    columns=['id', 'value', 'colC', 'colD'])\n",
    "df2 = pd.DataFrame(\n",
    "    [\n",
    "       (1, 111, 10.1, 3),\n",
    "       (9, 56, 3.33, 10),\n",
    "       (10, 17, 18.0, 8),\n",
    "       (3, 567, 19.1, 4),\n",
    "       (11, 98, 2.1, 1),\n",
    "       (6, 31, 3.14, 12),\n",
    "    ],\n",
    "    columns=['id', 'value', 'colE', 'colF'])"
   ]
  },
  {
   "cell_type": "code",
   "execution_count": null,
   "id": "01e4dc07",
   "metadata": {},
   "outputs": [],
   "source": [
    "# Inner join\n",
    "df1.merge(df2, on='id')"
   ]
  },
  {
   "cell_type": "code",
   "execution_count": null,
   "id": "224f0070",
   "metadata": {},
   "outputs": [],
   "source": [
    "# left join\n",
    "df1.merge(df2, on='id', how='left')"
   ]
  },
  {
   "cell_type": "code",
   "execution_count": null,
   "id": "6a375e2c",
   "metadata": {},
   "outputs": [],
   "source": [
    "# right join\n",
    "df1.merge(df2, on='id', how='right')"
   ]
  },
  {
   "cell_type": "code",
   "execution_count": null,
   "id": "f9219607",
   "metadata": {},
   "outputs": [],
   "source": [
    "# full outer join\n",
    "df1.merge(df2, on='id', how='outer')"
   ]
  },
  {
   "cell_type": "code",
   "execution_count": null,
   "id": "382a6db7",
   "metadata": {},
   "outputs": [],
   "source": [
    "# left anti join\n",
    "df1.merge(df2, on='id', how='left', indicator=True) \\\n",
    "    .query('_merge == \"left_only\"')[[\"id\",\"colC\",\"colD\"]]"
   ]
  },
  {
   "cell_type": "code",
   "execution_count": null,
   "id": "474f4e68",
   "metadata": {},
   "outputs": [],
   "source": [
    "# right anti join\n",
    "df1.merge(df2, on='id', how='right', indicator=True) \\\n",
    "  .query('_merge == \"right_only\"')"
   ]
  },
  {
   "cell_type": "code",
   "execution_count": null,
   "id": "794583c2",
   "metadata": {},
   "outputs": [],
   "source": [
    "import pandas as pd\n",
    "data = {'id': [1, 2, 3, 4, 5, 6, 7, 7],\n",
    "        'first_name': ['Sigrid', 'Kennedy', 'Theodoric', 'Sigrid', 'Kennedy', 'Beatrix', 'Olimpia', 'Olimpia'],\n",
    "        'last_name': ['Mannock', 'Donnell', 'Rivers', 'Mannock', 'Donnell', 'Parlett', 'Guenther', 'Guenther'],\n",
    "        'age': [27, 31, 36, 27, 53, 48, 36, 36],\n",
    "        'amount': [7.17, 1.90, 1.11, 7.17, 1.41, 6.69, 4.62, 4.62]}\n",
    "df = pd.DataFrame(data, columns = ['id', 'first_name', 'last_name', 'age', 'amount'])\n",
    "df"
   ]
  },
  {
   "cell_type": "code",
   "execution_count": null,
   "id": "01e6a394",
   "metadata": {},
   "outputs": [],
   "source": [
    "df.duplicated()"
   ]
  },
  {
   "cell_type": "code",
   "execution_count": null,
   "id": "d019842c",
   "metadata": {},
   "outputs": [],
   "source": [
    "df = df.drop_duplicates()\n",
    "df"
   ]
  },
  {
   "cell_type": "code",
   "execution_count": null,
   "id": "7fe2355f",
   "metadata": {},
   "outputs": [],
   "source": [
    "# Busca duplicados en una sola columa\n",
    "df.duplicated(df.columns[~df.columns.isin(['id'])])"
   ]
  },
  {
   "cell_type": "code",
   "execution_count": null,
   "id": "7ce188f2",
   "metadata": {},
   "outputs": [],
   "source": [
    "df = df.drop_duplicates(df.columns[~df.columns.isin(['id'])],\n",
    "                        keep='first')\n",
    "df"
   ]
  },
  {
   "cell_type": "code",
   "execution_count": null,
   "id": "042cf82a-bcd2-4872-a185-9bfa6e02ecda",
   "metadata": {},
   "outputs": [],
   "source": []
  }
 ],
 "metadata": {
  "kernelspec": {
   "display_name": "Python 3 (ipykernel)",
   "language": "python",
   "name": "python3"
  },
  "language_info": {
   "codemirror_mode": {
    "name": "ipython",
    "version": 3
   },
   "file_extension": ".py",
   "mimetype": "text/x-python",
   "name": "python",
   "nbconvert_exporter": "python",
   "pygments_lexer": "ipython3",
   "version": "3.9.18"
  },
  "vscode": {
   "interpreter": {
    "hash": "5a4aefe5433830292dd56e41ad848b6fae049c2ddf8b1ae26c5dfa2d885cad7a"
   }
  }
 },
 "nbformat": 4,
 "nbformat_minor": 5
}
